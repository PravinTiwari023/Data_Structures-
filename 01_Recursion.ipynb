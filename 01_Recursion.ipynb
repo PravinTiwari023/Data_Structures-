{
  "nbformat": 4,
  "nbformat_minor": 0,
  "metadata": {
    "colab": {
      "provenance": [],
      "authorship_tag": "ABX9TyNWMrbZUCyI4I76JYsxOpOD",
      "include_colab_link": true
    },
    "kernelspec": {
      "name": "python3",
      "display_name": "Python 3"
    },
    "language_info": {
      "name": "python"
    }
  },
  "cells": [
    {
      "cell_type": "markdown",
      "metadata": {
        "id": "view-in-github",
        "colab_type": "text"
      },
      "source": [
        "<a href=\"https://colab.research.google.com/github/PravinTiwari023/Data_Structures-/blob/main/01_Recursion.ipynb\" target=\"_parent\"><img src=\"https://colab.research.google.com/assets/colab-badge.svg\" alt=\"Open In Colab\"/></a>"
      ]
    },
    {
      "cell_type": "code",
      "execution_count": 1,
      "metadata": {
        "id": "GhcREbpUkrdn"
      },
      "outputs": [],
      "source": [
        "def recursivefunction(n):\n",
        "  if n<1 :\n",
        "    print(\"Recursrion is stop\")\n",
        "  else:\n",
        "    print(n,end=\" \")\n",
        "    #now it will print descending order because of stack memory\n",
        "    recursivefunction(n-1)"
      ]
    },
    {
      "cell_type": "code",
      "source": [
        "recursivefunction(22)"
      ],
      "metadata": {
        "colab": {
          "base_uri": "https://localhost:8080/"
        },
        "id": "1Z4r_f9ylFA_",
        "outputId": "9baa3f29-0269-4804-ba3a-353c26228294"
      },
      "execution_count": 2,
      "outputs": [
        {
          "output_type": "stream",
          "name": "stdout",
          "text": [
            "22 21 20 19 18 17 16 15 14 13 12 11 10 9 8 7 6 5 4 3 2 1 Recursrion is stop\n"
          ]
        }
      ]
    },
    {
      "cell_type": "code",
      "source": [
        "def recursivefunction(n):\n",
        "  if n<1 :\n",
        "    print(\"Recursrion is stop\")\n",
        "  else:\n",
        "    recursivefunction(n-1)\n",
        "    #now it will print ascending order because of stack memory\n",
        "    print(n,end=\" \")"
      ],
      "metadata": {
        "id": "x_pIiQculMc2"
      },
      "execution_count": 3,
      "outputs": []
    },
    {
      "cell_type": "code",
      "source": [
        "recursivefunction(22)"
      ],
      "metadata": {
        "colab": {
          "base_uri": "https://localhost:8080/"
        },
        "id": "Hlbsdxwpl9JT",
        "outputId": "f9e1f8ff-dbd3-43bf-b9ec-621a272ada95"
      },
      "execution_count": 4,
      "outputs": [
        {
          "output_type": "stream",
          "name": "stdout",
          "text": [
            "Recursrion is stop\n",
            "1 2 3 4 5 6 7 8 9 10 11 12 13 14 15 16 17 18 19 20 21 22 "
          ]
        }
      ]
    },
    {
      "cell_type": "code",
      "source": [
        "def poweroftwo(n):\n",
        "  if n == 0 :\n",
        "    return 1\n",
        "\n",
        "  else:\n",
        "    power = poweroftwo(n-1)\n",
        "    return power * 2 "
      ],
      "metadata": {
        "id": "APP9XJ_tmAXC"
      },
      "execution_count": 5,
      "outputs": []
    },
    {
      "cell_type": "code",
      "source": [
        "print(poweroftwo(5))"
      ],
      "metadata": {
        "colab": {
          "base_uri": "https://localhost:8080/"
        },
        "id": "f6MMK2-wpHGL",
        "outputId": "e9890987-7a28-4494-a487-eafb1fc75a6f"
      },
      "execution_count": 6,
      "outputs": [
        {
          "output_type": "stream",
          "name": "stdout",
          "text": [
            "32\n"
          ]
        }
      ]
    },
    {
      "cell_type": "code",
      "source": [
        "# factorial \n",
        "\n",
        "def factorial(n):\n",
        "  assert n >= 0 and int(n) == n,\"Please Enter the Positive Number and Integer only\"\n",
        "\n",
        "  if n in [0, 1]:\n",
        "    return 1\n",
        "  \n",
        "  else :\n",
        "    return n * factorial(n-1)"
      ],
      "metadata": {
        "id": "7I9p58Hspc4n"
      },
      "execution_count": 7,
      "outputs": []
    },
    {
      "cell_type": "code",
      "source": [
        "print(factorial(5))"
      ],
      "metadata": {
        "colab": {
          "base_uri": "https://localhost:8080/"
        },
        "id": "jKlxW5B9TV2z",
        "outputId": "c4d6388f-ece6-4b6b-d5c1-1f71d74ca71d"
      },
      "execution_count": 8,
      "outputs": [
        {
          "output_type": "stream",
          "name": "stdout",
          "text": [
            "120\n"
          ]
        }
      ]
    },
    {
      "cell_type": "code",
      "source": [
        "from typing import AnyStr\n",
        "# Fibonacci \n",
        "\n",
        "def fibonacci(n):\n",
        "  assert n >= 0 and int(n) == n, \"Please Enter the Positive Number and Integer only\"\n",
        "\n",
        "  if n in [0, 1]:\n",
        "    return n\n",
        "\n",
        "  else :  \n",
        "    return fibonacci(n-1) + fibonacci(n-2)"
      ],
      "metadata": {
        "id": "WJmhdm_nTfbL"
      },
      "execution_count": 9,
      "outputs": []
    },
    {
      "cell_type": "code",
      "source": [
        "print(fibonacci(7))"
      ],
      "metadata": {
        "colab": {
          "base_uri": "https://localhost:8080/"
        },
        "id": "QVKt1vNEYUCX",
        "outputId": "906d6ef0-148f-44e8-c055-1d9316d937ff"
      },
      "execution_count": 10,
      "outputs": [
        {
          "output_type": "stream",
          "name": "stdout",
          "text": [
            "13\n"
          ]
        }
      ]
    },
    {
      "cell_type": "code",
      "source": [
        "def sumofDigits(n):\n",
        "  assert n >= 0 and int(n) == n, \"Please Enter the Positive Number and Integer only\"\n",
        "\n",
        "  if n == 0:\n",
        "    return 0\n",
        "  else:\n",
        "    return int(n%10) + sumofDigits(int(n/10))"
      ],
      "metadata": {
        "id": "I8zBsZBmYhcE"
      },
      "execution_count": 14,
      "outputs": []
    },
    {
      "cell_type": "code",
      "source": [
        "print(sumofDigits(2118))"
      ],
      "metadata": {
        "colab": {
          "base_uri": "https://localhost:8080/"
        },
        "id": "Rzi2MUVa4A73",
        "outputId": "f27ffd22-b899-4d0d-b9a8-9b3425f813c9"
      },
      "execution_count": 15,
      "outputs": [
        {
          "output_type": "stream",
          "name": "stdout",
          "text": [
            "12\n"
          ]
        }
      ]
    },
    {
      "cell_type": "code",
      "source": [
        "def power(base, exponent):\n",
        "    assert base >= 0 and int(base) == base, \"Please Enter the Positive Number and Integer only\"\n",
        "    \n",
        "    if exponent == 0:\n",
        "        return 1\n",
        "    else:\n",
        "        return base * power(base, exponent-1)\n",
        "        \n",
        "print(power(2,0)) # 1\n",
        "print(power(2,2)) # 4\n",
        "print(power(2,4)) # 16"
      ],
      "metadata": {
        "colab": {
          "base_uri": "https://localhost:8080/"
        },
        "id": "OZiFDW2E4HHd",
        "outputId": "802f3b4a-8ec9-4399-d064-4d9f552b32c3"
      },
      "execution_count": 20,
      "outputs": [
        {
          "output_type": "stream",
          "name": "stdout",
          "text": [
            "1\n",
            "4\n",
            "16\n"
          ]
        }
      ]
    },
    {
      "cell_type": "code",
      "source": [
        "def productOfArray(arr):\n",
        "  if not arr:\n",
        "    return 1\n",
        "  else :\n",
        "    return arr[0] * productOfArray(arr[1:])\n",
        "\n",
        "print(productOfArray([1,2,3])) #6\n",
        "print(productOfArray([1,2,3,10])) #60"
      ],
      "metadata": {
        "colab": {
          "base_uri": "https://localhost:8080/"
        },
        "id": "XtigSa7Y6ydI",
        "outputId": "9f610280-b056-4897-fa3f-e6ca348dc580"
      },
      "execution_count": 25,
      "outputs": [
        {
          "output_type": "stream",
          "name": "stdout",
          "text": [
            "6\n",
            "60\n"
          ]
        }
      ]
    },
    {
      "cell_type": "code",
      "source": [
        "def recursiveRange(num):\n",
        "    assert num >= 0 and int(num) == num, \"Please Enter the Positive Number and Integer only\"\n",
        "    \n",
        "    if num == 1:\n",
        "        return 1\n",
        "        \n",
        "    else:\n",
        "        return num + recursiveRange(num-1)\n",
        "\n",
        "print(recursiveRange(6)) # 21\n",
        "print(recursiveRange(10)) # 55 "
      ],
      "metadata": {
        "colab": {
          "base_uri": "https://localhost:8080/"
        },
        "id": "ARruBCvy8y9r",
        "outputId": "b64938e9-cc83-4c72-85d8-b962f7d7a2ea"
      },
      "execution_count": 26,
      "outputs": [
        {
          "output_type": "stream",
          "name": "stdout",
          "text": [
            "21\n",
            "55\n"
          ]
        }
      ]
    },
    {
      "cell_type": "code",
      "source": [],
      "metadata": {
        "id": "YriOeEdq9wam"
      },
      "execution_count": null,
      "outputs": []
    }
  ]
}